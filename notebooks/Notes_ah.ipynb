{
 "cells": [
  {
   "cell_type": "code",
   "execution_count": 5,
   "id": "18b4c2bd-c694-465f-b22a-c2fc04c84e8f",
   "metadata": {
    "tags": []
   },
   "outputs": [],
   "source": [
    "import copy\n",
    "\n",
    "import numpy as np\n",
    "import pandas as pd\n",
    "import matplotlib.pyplot as plt\n",
    "from mpl_toolkits.mplot3d import Axes3D\n",
    "import seaborn as sns"
   ]
  },
  {
   "cell_type": "code",
   "execution_count": 6,
   "id": "b53b8f0b-9a09-4ad3-b761-77991cd49df0",
   "metadata": {
    "tags": []
   },
   "outputs": [
    {
     "name": "stdout",
     "output_type": "stream",
     "text": [
      "[ 50  60  70  80  90 100]\n",
      "[ 50  75 100]\n"
     ]
    }
   ],
   "source": [
    "demand_range = np.arange(50, 101, 10)\n",
    "order_quantity_range = np.arange(50, 101, 25)\n",
    "print(demand_range)\n",
    "print(order_quantity_range)"
   ]
  },
  {
   "cell_type": "code",
   "execution_count": 9,
   "id": "8c3e882f-ccca-444b-9afd-45acbaaa2714",
   "metadata": {
    "tags": []
   },
   "outputs": [
    {
     "name": "stdout",
     "output_type": "stream",
     "text": [
      "[(50, 50), (50, 75), (50, 100), (60, 50), (60, 75), (60, 100), (70, 50), (70, 75), (70, 100), (80, 50), (80, 75), (80, 100), (90, 50), (90, 75), (90, 100), (100, 50), (100, 75), (100, 100)]\n"
     ]
    }
   ],
   "source": [
    "print([(d, o) for d in demand_range for o in order_quantity_range])"
   ]
  },
  {
   "cell_type": "code",
   "execution_count": 11,
   "id": "db67ad4d-959c-405a-91a5-7969df070c15",
   "metadata": {
    "tags": []
   },
   "outputs": [
    {
     "name": "stdout",
     "output_type": "stream",
     "text": [
      "[0, -25, -50, 10, -15, -40, 20, -5, -30, 30, 5, -20, 40, 15, -10, 50, 25, 0]\n"
     ]
    }
   ],
   "source": [
    "print([d - o for d in demand_range for o in order_quantity_range])"
   ]
  },
  {
   "cell_type": "code",
   "execution_count": 15,
   "id": "6e51d56a-72a8-437f-a54d-2ecb3e7e17af",
   "metadata": {
    "tags": []
   },
   "outputs": [
    {
     "name": "stdout",
     "output_type": "stream",
     "text": [
      "[50, 75, 100]\n",
      "<class 'list'>\n"
     ]
    }
   ],
   "source": [
    "oq_list = list(order_quantity_range)\n",
    "print(oq_list)\n",
    "print(type(oq_list))"
   ]
  },
  {
   "cell_type": "code",
   "execution_count": 19,
   "id": "997d15e7-82ce-449d-baab-a7a1bdfabb9e",
   "metadata": {
    "tags": []
   },
   "outputs": [
    {
     "name": "stdout",
     "output_type": "stream",
     "text": [
      "[50, 75, 100, 350]\n"
     ]
    }
   ],
   "source": [
    "# Append a new item to end of list - .append is also a method and a function with an input argument\n",
    "oq_list.append(350)\n",
    "print(oq_list)"
   ]
  },
  {
   "cell_type": "code",
   "execution_count": 22,
   "id": "07d26841-4079-4477-ab0d-0870ad7061a8",
   "metadata": {
    "tags": []
   },
   "outputs": [
    {
     "name": "stdout",
     "output_type": "stream",
     "text": [
      "[350, 100, 75, 50]\n"
     ]
    }
   ],
   "source": [
    "# Reverse the order of our list .reverse() is a method with the parathesis\n",
    "oq_list.reverse()\n",
    "print(oq_list)"
   ]
  },
  {
   "cell_type": "code",
   "execution_count": null,
   "id": "ee6a6e89-8e42-4f91-b389-7d54a1d1ab8e",
   "metadata": {},
   "outputs": [],
   "source": [
    "# Reverse it back\n",
    "oq_list.reverse()\n",
    "print(oq_list)"
   ]
  },
  {
   "cell_type": "markdown",
   "id": "b8dae698-f50d-4993-a14b-b099436dde96",
   "metadata": {},
   "source": [
    "Functions are objects as well as lists"
   ]
  },
  {
   "cell_type": "code",
   "execution_count": 27,
   "id": "9a94612e-f972-4713-9abe-bf9224f8390e",
   "metadata": {
    "tags": []
   },
   "outputs": [
    {
     "name": "stdout",
     "output_type": "stream",
     "text": [
      "['__add__', '__class__', '__class_getitem__', '__contains__', '__delattr__', '__delitem__', '__dir__', '__doc__', '__eq__', '__format__', '__ge__', '__getattribute__', '__getitem__', '__getstate__', '__gt__', '__hash__', '__iadd__', '__imul__', '__init__', '__init_subclass__', '__iter__', '__le__', '__len__', '__lt__', '__mul__', '__ne__', '__new__', '__reduce__', '__reduce_ex__', '__repr__', '__reversed__', '__rmul__', '__setattr__', '__setitem__', '__sizeof__', '__str__', '__subclasshook__', 'append', 'clear', 'copy', 'count', 'extend', 'index', 'insert', 'pop', 'remove', 'reverse', 'sort']\n"
     ]
    }
   ],
   "source": [
    "print(dir(oq_list))"
   ]
  },
  {
   "cell_type": "code",
   "execution_count": 31,
   "id": "a05c5798-9d9b-4f96-a08f-8e5d00eab544",
   "metadata": {
    "tags": []
   },
   "outputs": [
    {
     "data": {
      "text/plain": [
       "['T',\n",
       " '__abs__',\n",
       " '__add__',\n",
       " '__and__',\n",
       " '__array__',\n",
       " '__array_finalize__',\n",
       " '__array_function__',\n",
       " '__array_interface__',\n",
       " '__array_prepare__',\n",
       " '__array_priority__',\n",
       " '__array_struct__',\n",
       " '__array_ufunc__',\n",
       " '__array_wrap__',\n",
       " '__bool__',\n",
       " '__buffer__',\n",
       " '__class__',\n",
       " '__class_getitem__',\n",
       " '__complex__',\n",
       " '__contains__',\n",
       " '__copy__',\n",
       " '__deepcopy__',\n",
       " '__delattr__',\n",
       " '__delitem__',\n",
       " '__dir__',\n",
       " '__divmod__',\n",
       " '__dlpack__',\n",
       " '__dlpack_device__',\n",
       " '__doc__',\n",
       " '__eq__',\n",
       " '__float__',\n",
       " '__floordiv__',\n",
       " '__format__',\n",
       " '__ge__',\n",
       " '__getattribute__',\n",
       " '__getitem__',\n",
       " '__getstate__',\n",
       " '__gt__',\n",
       " '__hash__',\n",
       " '__iadd__',\n",
       " '__iand__',\n",
       " '__ifloordiv__',\n",
       " '__ilshift__',\n",
       " '__imatmul__',\n",
       " '__imod__',\n",
       " '__imul__',\n",
       " '__index__',\n",
       " '__init__',\n",
       " '__init_subclass__',\n",
       " '__int__',\n",
       " '__invert__',\n",
       " '__ior__',\n",
       " '__ipow__',\n",
       " '__irshift__',\n",
       " '__isub__',\n",
       " '__iter__',\n",
       " '__itruediv__',\n",
       " '__ixor__',\n",
       " '__le__',\n",
       " '__len__',\n",
       " '__lshift__',\n",
       " '__lt__',\n",
       " '__matmul__',\n",
       " '__mod__',\n",
       " '__mul__',\n",
       " '__ne__',\n",
       " '__neg__',\n",
       " '__new__',\n",
       " '__or__',\n",
       " '__pos__',\n",
       " '__pow__',\n",
       " '__radd__',\n",
       " '__rand__',\n",
       " '__rdivmod__',\n",
       " '__reduce__',\n",
       " '__reduce_ex__',\n",
       " '__repr__',\n",
       " '__rfloordiv__',\n",
       " '__rlshift__',\n",
       " '__rmatmul__',\n",
       " '__rmod__',\n",
       " '__rmul__',\n",
       " '__ror__',\n",
       " '__rpow__',\n",
       " '__rrshift__',\n",
       " '__rshift__',\n",
       " '__rsub__',\n",
       " '__rtruediv__',\n",
       " '__rxor__',\n",
       " '__setattr__',\n",
       " '__setitem__',\n",
       " '__setstate__',\n",
       " '__sizeof__',\n",
       " '__str__',\n",
       " '__sub__',\n",
       " '__subclasshook__',\n",
       " '__truediv__',\n",
       " '__xor__',\n",
       " 'all',\n",
       " 'any',\n",
       " 'argmax',\n",
       " 'argmin',\n",
       " 'argpartition',\n",
       " 'argsort',\n",
       " 'astype',\n",
       " 'base',\n",
       " 'byteswap',\n",
       " 'choose',\n",
       " 'clip',\n",
       " 'compress',\n",
       " 'conj',\n",
       " 'conjugate',\n",
       " 'copy',\n",
       " 'ctypes',\n",
       " 'cumprod',\n",
       " 'cumsum',\n",
       " 'data',\n",
       " 'diagonal',\n",
       " 'dot',\n",
       " 'dtype',\n",
       " 'dump',\n",
       " 'dumps',\n",
       " 'fill',\n",
       " 'flags',\n",
       " 'flat',\n",
       " 'flatten',\n",
       " 'getfield',\n",
       " 'imag',\n",
       " 'item',\n",
       " 'itemset',\n",
       " 'itemsize',\n",
       " 'max',\n",
       " 'mean',\n",
       " 'min',\n",
       " 'nbytes',\n",
       " 'ndim',\n",
       " 'newbyteorder',\n",
       " 'nonzero',\n",
       " 'partition',\n",
       " 'prod',\n",
       " 'ptp',\n",
       " 'put',\n",
       " 'ravel',\n",
       " 'real',\n",
       " 'repeat',\n",
       " 'reshape',\n",
       " 'resize',\n",
       " 'round',\n",
       " 'searchsorted',\n",
       " 'setfield',\n",
       " 'setflags',\n",
       " 'shape',\n",
       " 'size',\n",
       " 'sort',\n",
       " 'squeeze',\n",
       " 'std',\n",
       " 'strides',\n",
       " 'sum',\n",
       " 'swapaxes',\n",
       " 'take',\n",
       " 'tobytes',\n",
       " 'tofile',\n",
       " 'tolist',\n",
       " 'tostring',\n",
       " 'trace',\n",
       " 'transpose',\n",
       " 'var',\n",
       " 'view']"
      ]
     },
     "execution_count": 31,
     "metadata": {},
     "output_type": "execute_result"
    }
   ],
   "source": [
    "dir(order_quantity_range)"
   ]
  },
  {
   "cell_type": "markdown",
   "id": "0d6b7641-e980-435e-9d5b-c602f1426329",
   "metadata": {},
   "source": [
    "A class is a code template for creating objects. Objects have member variables and have behaviour associated with them. In python a class is created by the keyword class . An object is created using the constructor of the class. This object will then be called the instance of the class."
   ]
  },
  {
   "cell_type": "code",
   "execution_count": 2,
   "id": "b8e0c982-d76a-4c78-a183-02c0413cb747",
   "metadata": {},
   "outputs": [
    {
     "name": "stdout",
     "output_type": "stream",
     "text": [
      "(1, 10)\n",
      "(2, 20)\n",
      "(3, 30)\n"
     ]
    }
   ],
   "source": [
    "# zip\n",
    "\n",
    "alpha = [1, 2, 3]\n",
    "beta = [10, 20, 30]\n",
    "\n",
    "for t in zip(alpha, beta):\n",
    "    print(t)"
   ]
  },
  {
   "cell_type": "code",
   "execution_count": 6,
   "id": "d0841784-4948-4784-9179-27c3b106ed6f",
   "metadata": {
    "tags": []
   },
   "outputs": [
    {
     "name": "stdout",
     "output_type": "stream",
     "text": [
      "Enter your name:\n"
     ]
    },
    {
     "name": "stdin",
     "output_type": "stream",
     "text": [
      " Anna\n"
     ]
    },
    {
     "name": "stdout",
     "output_type": "stream",
     "text": [
      "Hello, Anna\n"
     ]
    }
   ],
   "source": [
    "print('Enter your name:')\n",
    "x = input()\n",
    "print('Hello, ' + x)"
   ]
  },
  {
   "cell_type": "code",
   "execution_count": null,
   "id": "6489282a-bf99-478c-a8e9-7b6868303419",
   "metadata": {
    "tags": []
   },
   "outputs": [],
   "source": [
    "# Python program showing how to\n",
    "# multiple input using split\n",
    "\n",
    "# taking two inputs at a time\n",
    "x, y = input(\"Enter two values: \").split()\n",
    "print(\"Number of boys: \", x)\n",
    "print(\"Number of girls: \", y)\n",
    "\n",
    "# taking three inputs at a time\n",
    "x, y, z = input(\"Enter three values: \").split()\n",
    "print(\"Total number of students: \", x)\n",
    "print(\"Number of boys is : \", y)\n",
    "print(\"Number of girls is : \", z)\n",
    "\n",
    "# taking two inputs at a time\n",
    "a, b = input(\"Enter two values: \").split()\n",
    "print(\"First number is {} and second number is {}\".format(a, b))\n",
    "\n",
    "# taking multiple inputs at a time \n",
    "# and type casting using list() function\n",
    "x = list(map(int, input(\"Enter multiple values: \").split()))\n",
    "print(\"List of students: \", x)"
   ]
  },
  {
   "cell_type": "code",
   "execution_count": 15,
   "id": "b2607e97-c3f4-497f-86e7-beb4240b093c",
   "metadata": {
    "tags": []
   },
   "outputs": [
    {
     "name": "stdin",
     "output_type": "stream",
     "text": [
      "Enter multiple values:  7.50 10.00 25.00\n"
     ]
    },
    {
     "name": "stdout",
     "output_type": "stream",
     "text": [
      "List of students:  [7.5, 10.0, 25.0]\n"
     ]
    }
   ],
   "source": [
    "# taking multiple inputs at a time \n",
    "# and type casting using list() function\n",
    "x = list(map(float, input(\"Enter multiple values: \").split()))\n",
    "print(\"List of students: \", x)"
   ]
  },
  {
   "cell_type": "code",
   "execution_count": null,
   "id": "4944a27c-edce-4ec2-b409-ce086e271197",
   "metadata": {},
   "outputs": [],
   "source": [
    "#Example with integers\n",
    "a, b, c = map(int, input(\"Enter three integers separated by spaces: \").split())\n",
    "print(\"Sum:\", a + b + c)\n",
    "\n",
    "#Example with floats:\n",
    "x, y = map(float, input(\"Enter two floats separated by a space: \").split())\n",
    "print(\"Product:\", x * y)\n",
    "\n",
    "#Example with strings:\n",
    "name, age = input(\"Enter your name and age separated by a space: \").split()\n",
    "print(\"Hello,\", name + \"! You are\", age, \"years old.\")"
   ]
  }
 ],
 "metadata": {
  "kernelspec": {
   "display_name": "Python [conda env:aap]",
   "language": "python",
   "name": "conda-env-aap-py"
  },
  "language_info": {
   "codemirror_mode": {
    "name": "ipython",
    "version": 3
   },
   "file_extension": ".py",
   "mimetype": "text/x-python",
   "name": "python",
   "nbconvert_exporter": "python",
   "pygments_lexer": "ipython3",
   "version": "3.12.3"
  }
 },
 "nbformat": 4,
 "nbformat_minor": 5
}
