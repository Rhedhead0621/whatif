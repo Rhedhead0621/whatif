{
 "cells": [
  {
   "cell_type": "markdown",
   "id": "478375ed-b7d2-47e7-99a3-5a78a87426e1",
   "metadata": {},
   "source": [
    "# HW2 - Analysis 1"
   ]
  },
  {
   "cell_type": "code",
   "execution_count": null,
   "id": "6822b626-1641-4df4-990f-5a415e6664b2",
   "metadata": {},
   "outputs": [],
   "source": [
    "import numpy as np\n",
    "import pandas as pd\n",
    "import matplotlib.pyplot as plt\n",
    "from sklearn.model_selection._search import ParameterGrid\n",
    "import seaborn as sns\n",
    "import copy"
   ]
  },
  {
   "cell_type": "code",
   "execution_count": null,
   "id": "e4ef05b9-669b-4dbc-88cc-56be89df5106",
   "metadata": {
    "tags": []
   },
   "outputs": [],
   "source": [
    "%matplotlib inline"
   ]
  },
  {
   "cell_type": "code",
   "execution_count": null,
   "id": "e781a702-a67f-41ae-b313-97ee1e182de5",
   "metadata": {
    "tags": []
   },
   "outputs": [],
   "source": [
    "from whatif import Model\n",
    "from whatif import get_sim_results_df"
   ]
  },
  {
   "cell_type": "markdown",
   "id": "4a12f27f-35a1-461f-ac73-0093274b57d8",
   "metadata": {},
   "source": [
    "### Base Model"
   ]
  },
  {
   "cell_type": "markdown",
   "id": "ec7a3eee-c151-43dc-9229-bdc18028fc35",
   "metadata": {},
   "source": [
    "**This works - so there must be some reason self.demand needs () in the formula and the __init__ variables do not (in the demand and profit formulas) - \n",
    "Found online: self.demand() is called with parentheses because it's invoking a method of the class instance (self). If demand were an attribute rather than a method, you would access it without parentheses, as in self.demand.**"
   ]
  },
  {
   "cell_type": "code",
   "execution_count": null,
   "id": "46a092b6-3593-4215-828f-bb7e96927320",
   "metadata": {
    "tags": []
   },
   "outputs": [],
   "source": [
    "class SingleProductSPF(Model):\n",
    "    def __init__(self, fixed_cost=5000, var_cost=100, selling_price=0,\n",
    "                 spf_constant=4900, spf_linear=-35, spf_quadratic=0.06):\n",
    "        self.fixed_cost = fixed_cost\n",
    "        self.var_cost = var_cost\n",
    "        self.selling_price = selling_price\n",
    "        self.spf_constant = spf_constant\n",
    "        self.spf_linear = spf_linear\n",
    "        self.spf_quadratic = spf_quadratic\n",
    "        \n",
    "    def demand(self):\n",
    "        \"\"\"Compute demand\"\"\"\n",
    "        demand = (self.spf_quadratic * (self.selling_price ** 2)) + (self.spf_linear * self.selling_price) + self.spf_constant\n",
    "        return demand\n",
    "    \n",
    "    def profit(self):\n",
    "        \"\"\"Compute profit\"\"\"\n",
    "        profit = (self.demand() * self.selling_price) - (self.demand() * self.var_cost) - self.fixed_cost\n",
    "        return profit\n",
    "    \n",
    "    def total_cost(self):\n",
    "        \"\"\"Computer total cost\"\"\"\n",
    "        total_cost = (self.demand() * self.var_cost) - self.fixed_cost\n",
    "        return total_cost\n"
   ]
  },
  {
   "cell_type": "markdown",
   "id": "9b6d6642-0bfe-448f-8ff3-0c2f3590895d",
   "metadata": {},
   "source": [
    "**I wanted to see if the update function would work**"
   ]
  },
  {
   "cell_type": "code",
   "execution_count": null,
   "id": "38dbd1b4-e602-4e87-b7f2-d2204827a0d2",
   "metadata": {
    "tags": []
   },
   "outputs": [],
   "source": [
    "# Create a dictionary of base input values\n",
    "base_inputs = {'selling_price': 115}"
   ]
  },
  {
   "cell_type": "code",
   "execution_count": null,
   "id": "d621ef3e-8ac3-471e-959e-118355d3864e",
   "metadata": {
    "tags": []
   },
   "outputs": [],
   "source": [
    "# Create a new model with default input values (0's)\n",
    "model_test = SingleProductSPF()\n",
    "print(model_test)\n",
    "model_test.demand()"
   ]
  },
  {
   "cell_type": "code",
   "execution_count": null,
   "id": "9ef0a6a4-6080-4b87-bd4b-5ede877f4800",
   "metadata": {
    "tags": []
   },
   "outputs": [],
   "source": [
    "# Update model with base inputs\n",
    "model_test.update(base_inputs)\n",
    "print(model_test)"
   ]
  },
  {
   "cell_type": "code",
   "execution_count": null,
   "id": "a5441fbc-58a3-4ceb-8438-ac7dba1f4a04",
   "metadata": {
    "tags": []
   },
   "outputs": [],
   "source": [
    "model_test.demand()"
   ]
  },
  {
   "cell_type": "code",
   "execution_count": null,
   "id": "db81bf6e-f750-4c01-9aec-4786d215bfad",
   "metadata": {
    "tags": []
   },
   "outputs": [],
   "source": [
    "model_test.profit()"
   ]
  },
  {
   "cell_type": "markdown",
   "id": "9212ef7c-e131-43a3-a6a3-857da796cf25",
   "metadata": {},
   "source": [
    "### Data Table Function"
   ]
  },
  {
   "cell_type": "markdown",
   "id": "768b10f7-96bb-4086-b82c-37440434d726",
   "metadata": {},
   "source": [
    "### 1-Way Data Table"
   ]
  },
  {
   "cell_type": "markdown",
   "id": "589742f0-5b6d-4816-bfe6-5e7251a72f9a",
   "metadata": {},
   "source": [
    "**Originally, I had the full functions in the notebook as well, then realized they could all be referenced**"
   ]
  },
  {
   "cell_type": "code",
   "execution_count": null,
   "id": "81d94c3b-e18c-48c1-9111-3990d1f178f0",
   "metadata": {
    "tags": []
   },
   "outputs": [],
   "source": [
    "# Specify input ranges for scenarios (dictionary)\n",
    "inputs = {'selling_price': np.arange(80, 141, 10)}\n",
    "\n",
    "# Specify desired outputs (list)\n",
    "outputs = ['profit', 'demand']\n",
    "\n",
    "# Use data_table function\n",
    "mt_dt1_df = model_test.data_table(inputs, outputs)\n",
    "mt_dt1_df"
   ]
  },
  {
   "cell_type": "code",
   "execution_count": null,
   "id": "104b47ab-7ce9-4e2d-b09b-9b26b72808c5",
   "metadata": {
    "tags": []
   },
   "outputs": [],
   "source": [
    "# Plot\n",
    "plt.plot(mt_dt1_df['selling_price'], mt_dt1_df['profit'], marker='o')\n",
    "\n",
    "# Labeling the plot\n",
    "plt.title('Selling Price vs. Profit')\n",
    "plt.xlabel('Selling Price ($)')\n",
    "plt.ylabel('Profit ($)')\n",
    "\n",
    "# Show plot\n",
    "plt.grid(True)\n",
    "plt.show()"
   ]
  },
  {
   "cell_type": "markdown",
   "id": "644ea748-3d68-45eb-8272-6b5978d6ce26",
   "metadata": {},
   "source": [
    "**It is non-linear with a curve, as the demand formula is quadratic**\n",
    "\n",
    "https://www.cuemath.com/algebra/factorization-of-quadratic-polynomials/\n",
    "\n",
    "A quadratic polynomial is also known as a second-order polynomial. This means that at least one of the variables should be raised to the power of two while the other variable powers will be lesser than or equal to two but greater than -1. A quadratic polynomial can have multiple variables."
   ]
  },
  {
   "cell_type": "markdown",
   "id": "71273ef5-0cf4-4029-865e-a5aa4cd46f6c",
   "metadata": {},
   "source": [
    "### Using goal_seek"
   ]
  },
  {
   "cell_type": "code",
   "execution_count": null,
   "id": "d46f7ab9-37ae-4c69-920e-427a6e76f7ed",
   "metadata": {
    "tags": []
   },
   "outputs": [],
   "source": [
    "model_test.goal_seek('profit', 0, 'selling_price', 80, 140, N=100)"
   ]
  },
  {
   "cell_type": "markdown",
   "id": "ee459a0e-43c4-4d69-b206-52033592af89",
   "metadata": {},
   "source": [
    "**The breakeven selling price is $102.58**"
   ]
  },
  {
   "cell_type": "markdown",
   "id": "bb412ec3-e760-4a96-8239-a3efbd26b279",
   "metadata": {},
   "source": [
    "### 2-Way Data Table"
   ]
  },
  {
   "cell_type": "code",
   "execution_count": null,
   "id": "f2f8264f-c2fa-42ab-b01f-77ce2fcc8abf",
   "metadata": {
    "tags": []
   },
   "outputs": [],
   "source": [
    "# Specify input ranges for scenarios (dictionary)\n",
    "inputs = {'selling_price': np.arange(80, 141, 10),\n",
    "                  'var_cost': np.arange(85, 111, 5)}\n",
    "\n",
    "# Specify desired outputs (list)\n",
    "outputs = ['profit', 'total_cost']\n",
    "\n",
    "# Use data_table function to create dataframe\n",
    "mt_dt2_df = model_test.data_table(inputs, outputs)\n",
    "mt_dt2_df"
   ]
  },
  {
   "cell_type": "code",
   "execution_count": null,
   "id": "e529725d-ae67-4b61-9b3c-b1bf3db8ad7a",
   "metadata": {
    "tags": []
   },
   "outputs": [],
   "source": [
    "# Scatter plot - negatives caused an error\n",
    "plt.figure(figsize=(10, 6))\n",
    "plt.scatter(mt_dt2_df['selling_price'], mt_dt2_df['var_cost'], s=mt_dt2_df['profit'], c=mt_dt2_df['profit'], cmap='viridis', alpha=0.7)\n",
    "plt.colorbar(label='Profit')\n",
    "plt.xlabel('Selling Price')\n",
    "plt.ylabel('Variable Cost')\n",
    "plt.title('Profit vs Selling Price and Variable Cost')\n",
    "plt.grid(True)\n",
    "plt.show()\n"
   ]
  },
  {
   "cell_type": "code",
   "execution_count": null,
   "id": "dc623e3e-d09e-47a3-9a93-b46f99b766be",
   "metadata": {
    "tags": []
   },
   "outputs": [],
   "source": [
    "# Handling NaN and negative values in 'profit' column\n",
    "mt_dt2_df['profit'] = mt_dt2_df['profit'].fillna(0)  # Fill NaN with 0\n",
    "mt_dt2_df['profit'] = mt_dt2_df['profit'].clip(lower=0)  # Clip negative values to 0\n",
    "\n",
    "# Scatter plot\n",
    "plt.figure(figsize=(10, 6))\n",
    "plt.scatter(mt_dt2_df['selling_price'], mt_dt2_df['var_cost'], s=mt_dt2_df['profit'], c=mt_dt2_df['profit'], cmap='viridis', alpha=0.7)\n",
    "plt.colorbar(label='Profit')\n",
    "plt.xlabel('Selling Price')\n",
    "plt.ylabel('Variable Cost')\n",
    "plt.title('Profit vs Selling Price and Variable Cost')\n",
    "plt.grid(True)\n",
    "plt.show()"
   ]
  },
  {
   "cell_type": "markdown",
   "id": "9ea40e93-916f-4ec3-b2a3-815f3cfbbf4e",
   "metadata": {},
   "source": [
    "**I love the visual of this plot - but I'll do something that is a little more readable**"
   ]
  },
  {
   "cell_type": "code",
   "execution_count": null,
   "id": "51aa631d-b6a3-4604-a33e-9f1b96b43dba",
   "metadata": {
    "tags": []
   },
   "outputs": [],
   "source": [
    "# Scatter plot\n",
    "plt.figure(figsize=(10, 6))\n",
    "plt.scatter(mt_dt2_df['selling_price'], mt_dt2_df['var_cost'], s=100, c=mt_dt2_df['profit'], cmap='viridis', alpha=0.9)\n",
    "plt.colorbar(label='Profit')\n",
    "plt.xlabel('Selling Price')\n",
    "plt.ylabel('Variable Cost')\n",
    "plt.title('Profit vs Selling Price and Variable Cost')\n",
    "plt.grid(True)\n",
    "plt.show()"
   ]
  },
  {
   "cell_type": "markdown",
   "id": "236c3464-60cd-4d5f-a4b8-fb79c4506960",
   "metadata": {},
   "source": [
    "**While I love the 'viridis' colors, one of my group project members from my last class is colorblind and I started to think about color choices, there was supposed to be a 'colorblind' selection, but that caused an error, 'cividis' is supposed to be another good choice - I think it still depends on what colors the individual sees best**"
   ]
  },
  {
   "cell_type": "code",
   "execution_count": null,
   "id": "8f9f2c7f-c0bc-4846-bf26-1e98ad5653fb",
   "metadata": {
    "tags": []
   },
   "outputs": [],
   "source": [
    "# Scatter plot\n",
    "plt.figure(figsize=(10, 6))\n",
    "plt.scatter(mt_dt2_df['selling_price'], mt_dt2_df['var_cost'], s=100, c=mt_dt2_df['profit'], cmap='cividis', alpha=0.9)\n",
    "plt.colorbar(label='Profit')\n",
    "plt.xlabel('Selling Price')\n",
    "plt.ylabel('Variable Cost')\n",
    "plt.title('Profit vs Selling Price and Variable Cost')\n",
    "plt.grid(True)\n",
    "plt.show()"
   ]
  },
  {
   "cell_type": "markdown",
   "id": "79ad6a32-afb6-4e36-8eb7-62bc8090e78b",
   "metadata": {},
   "source": [
    "### Re-do goal_seek \\\\$80 - 250:\n",
    "**I was able to get 227 to work, 228 - 250 failed - I changed N and that didn't help**  <br>\n",
    "**It's the same breakeven $102.58**"
   ]
  },
  {
   "cell_type": "code",
   "execution_count": null,
   "id": "0788ef66-632e-4ab6-bd22-031eb7873660",
   "metadata": {
    "tags": []
   },
   "outputs": [],
   "source": [
    "model_test.goal_seek('profit', 0, 'selling_price', 80, 250, N=100)"
   ]
  },
  {
   "cell_type": "markdown",
   "id": "f018c1a2-dd21-4730-9439-0ffa1427e966",
   "metadata": {},
   "source": [
    "### Another 1-Way Data Table \\\\$80 - 250:"
   ]
  },
  {
   "cell_type": "code",
   "execution_count": null,
   "id": "16bd4394-6a48-49fe-899e-71690aec7f7b",
   "metadata": {
    "tags": []
   },
   "outputs": [],
   "source": [
    "# Specify input ranges for scenarios (dictionary)\n",
    "inputs = {'selling_price': np.arange(80, 251, 10)}\n",
    "\n",
    "# Specify desired outputs (list)\n",
    "outputs = ['profit', 'demand']\n",
    "\n",
    "# Use data_table function\n",
    "mt_dt3_df = model_test.data_table(inputs, outputs)\n",
    "mt_dt3_df"
   ]
  },
  {
   "cell_type": "markdown",
   "id": "32b5dbf5-d9fb-4501-8e93-17285657bdca",
   "metadata": {},
   "source": [
    "***LOL - oops...negatives!!! I hate it when that happens...***"
   ]
  },
  {
   "cell_type": "markdown",
   "id": "a7a2fdd2-ebe8-49da-a5b3-f1772ba07314",
   "metadata": {},
   "source": [
    "### Simulation"
   ]
  },
  {
   "cell_type": "code",
   "execution_count": null,
   "id": "9aab45f2-8afd-441e-86d8-13508bd54804",
   "metadata": {
    "tags": []
   },
   "outputs": [],
   "source": [
    "from numpy.random import default_rng\n",
    "rg = default_rng(4470)\n",
    "rg.random() # Generate one just to see it work"
   ]
  },
  {
   "cell_type": "code",
   "execution_count": null,
   "id": "893708ac-c15f-4dd3-9dfc-8d0fb9c565c2",
   "metadata": {},
   "outputs": [],
   "source": [
    "#simulate(self, random_inputs, outputs, scenario_inputs=None, keep_random_inputs=False)\n",
    "num_reps = 100\n",
    "\n",
    "random_inputs = {'var_cost': rg.uniform(80.0, 120.0, num_reps)}\n",
    "\n",
    "sim_outputs = ['profit'] \n",
    "\n",
    "model_test_results = model_test.simulate(random_inputs, sim_outputs)\n",
    "\n",
    "model_test_results"
   ]
  },
  {
   "cell_type": "code",
   "execution_count": null,
   "id": "5d5faaf5-bae9-4ca7-acbe-031c2dca3df9",
   "metadata": {
    "tags": []
   },
   "outputs": [],
   "source": [
    "model_test_results_df = get_sim_results_df(model_test_results)\n",
    "\n",
    "model_test_results_df"
   ]
  },
  {
   "cell_type": "code",
   "execution_count": null,
   "id": "19ea7b77-b803-4325-b142-974554bbaa68",
   "metadata": {
    "tags": []
   },
   "outputs": [],
   "source": [
    "# creating a basic histogram \n",
    "\n",
    "model_test_results_df.hist('profit')\n",
    "plt.title(\"Profit histogram for random Variable Cost ranging \\\\$80 - \\\\$140\")\n",
    "plt.xlabel(\"Profit\")\n",
    "plt.ylabel(\"Num observations\")\n",
    "plt.show() "
   ]
  },
  {
   "cell_type": "markdown",
   "id": "91b68d5a-a2d3-4b2f-9cce-4768e30bbe90",
   "metadata": {},
   "source": [
    "***I believe this is a non-symmetric multi-modal distribution - the histogram changed when I reset the kernel to make sure everything worked***"
   ]
  },
  {
   "cell_type": "markdown",
   "id": "c935f22c-ea24-4ae2-9120-edf01fb1b61c",
   "metadata": {},
   "source": [
    "https://www.statology.org/multimodal-distribution/"
   ]
  },
  {
   "cell_type": "markdown",
   "id": "0beb78fd-9c57-487f-a734-86dd22aebb0b",
   "metadata": {},
   "source": [
    "https://www.sparknotes.com/math/algebra1/quadratics/section3/\n",
    "\n",
    "There can be 0, 1, or 2 solutions to a quadratic equation, depending on whether the expression inside the square root sign, (b [ 2 ]  - 4ac), is positive, negative, or zero. This expression has a special name: the discriminant.\n",
    "If the discriminant is positive--if b [ 2 ]  -4ac > 0--then the quadratic equation has two solutions.\n",
    "If the discriminant is zero--if b [ 2 ]  - 4ac = 0--then the quadratic equation has one solution.\n",
    "If the discriminant is negative--if b [ 2 ]  -4ac < 0--then the quadratic equation has no solutions."
   ]
  },
  {
   "cell_type": "markdown",
   "id": "db633abc-af3d-43f0-bfe3-b590dd18bb1c",
   "metadata": {},
   "source": [
    "https://www.sparknotes.com/math/algebra1/quadratics/section3/page/2/\n",
    "\n",
    "https://www.labxchange.org/library/items/lb:LabXchange:10d3270e:html:1\n",
    "\n",
    "https://statisticsbyjim.com/basics/bimodal-distribution/"
   ]
  },
  {
   "cell_type": "code",
   "execution_count": null,
   "id": "65d967a9-aa63-4c8f-a812-afb66d1adb0f",
   "metadata": {
    "tags": []
   },
   "outputs": [],
   "source": [
    "# create 1000 equally spaced points between -1000 and 1000\n",
    "x = np.linspace(-1000, 1000, 1000)\n",
    "\n",
    "# calculate the y value for each element of the x vector\n",
    "y = x ** 2 - 35 * x + 4900  \n",
    "\n",
    "fig, ax = plt.subplots()\n",
    "ax.plot(x, y)"
   ]
  },
  {
   "cell_type": "code",
   "execution_count": null,
   "id": "48d2cc3c-8190-4b6f-b75d-f4bd11d7973b",
   "metadata": {
    "tags": []
   },
   "outputs": [],
   "source": [
    "from scipy import stats"
   ]
  },
  {
   "cell_type": "code",
   "execution_count": null,
   "id": "4401e5b2-7726-40c2-bbb7-dede7faa85f6",
   "metadata": {
    "tags": []
   },
   "outputs": [],
   "source": [
    "# Probability profit is negative\n",
    "print(stats.percentileofscore(model_test_results_df['profit'], 0) / 100.0)"
   ]
  },
  {
   "cell_type": "markdown",
   "id": "be32dc9f-a865-4267-a0b4-d4dd7967b739",
   "metadata": {},
   "source": [
    "***The probability that \n",
    "profit will be negative based on this simulation is 22% (the first time I ran this, the histogram was different and calculated 12%)***"
   ]
  },
  {
   "cell_type": "code",
   "execution_count": null,
   "id": "8b87d764-ac81-49ba-9774-4c144d5ffb88",
   "metadata": {},
   "outputs": [],
   "source": []
  }
 ],
 "metadata": {
  "kernelspec": {
   "display_name": "Python [conda env:aap]",
   "language": "python",
   "name": "conda-env-aap-py"
  },
  "language_info": {
   "codemirror_mode": {
    "name": "ipython",
    "version": 3
   },
   "file_extension": ".py",
   "mimetype": "text/x-python",
   "name": "python",
   "nbconvert_exporter": "python",
   "pygments_lexer": "ipython3",
   "version": "3.12.3"
  }
 },
 "nbformat": 4,
 "nbformat_minor": 5
}
