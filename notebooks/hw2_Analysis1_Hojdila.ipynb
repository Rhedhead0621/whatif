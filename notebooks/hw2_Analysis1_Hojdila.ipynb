{
 "cells": [
  {
   "cell_type": "markdown",
   "id": "478375ed-b7d2-47e7-99a3-5a78a87426e1",
   "metadata": {},
   "source": [
    "# HW2 - Analysis 1"
   ]
  },
  {
   "cell_type": "code",
   "execution_count": 1,
   "id": "6822b626-1641-4df4-990f-5a415e6664b2",
   "metadata": {},
   "outputs": [],
   "source": [
    "import numpy as np\n",
    "import pandas as pd\n",
    "import matplotlib.pyplot as plt\n",
    "from sklearn.model_selection._search import ParameterGrid\n",
    "import seaborn as sns\n",
    "import copy"
   ]
  },
  {
   "cell_type": "code",
   "execution_count": 2,
   "id": "e4ef05b9-669b-4dbc-88cc-56be89df5106",
   "metadata": {
    "tags": []
   },
   "outputs": [],
   "source": [
    "%matplotlib inline"
   ]
  },
  {
   "cell_type": "code",
   "execution_count": 5,
   "id": "e781a702-a67f-41ae-b313-97ee1e182de5",
   "metadata": {
    "tags": []
   },
   "outputs": [],
   "source": [
    "from whatif import Model\n",
    "from whatif import get_sim_results_df"
   ]
  },
  {
   "cell_type": "markdown",
   "id": "4a12f27f-35a1-461f-ac73-0093274b57d8",
   "metadata": {},
   "source": [
    "### Base Model"
   ]
  },
  {
   "cell_type": "markdown",
   "id": "ec7a3eee-c151-43dc-9229-bdc18028fc35",
   "metadata": {},
   "source": [
    "This works - so there must be some reason self.demand needs () in the formula and the __init__ variables do not (in the demand and profit formulas) - \n",
    "Found online: self.demand() is called with parentheses because it's invoking a method of the class instance (self). If demand were an attribute rather than a method, you would access it without parentheses, as in self.demand."
   ]
  },
  {
   "cell_type": "code",
   "execution_count": 148,
   "id": "46a092b6-3593-4215-828f-bb7e96927320",
   "metadata": {
    "tags": []
   },
   "outputs": [],
   "source": [
    "class SingleProductSPF(Model):\n",
    "    def __init__(self, fixed_cost=5000, var_cost=100, selling_price=0,\n",
    "                 spf_constant=4900, spf_linear=-35, spf_quadratic=0.06):\n",
    "        self.fixed_cost = fixed_cost\n",
    "        self.var_cost = var_cost\n",
    "        self.selling_price = selling_price\n",
    "        self.spf_constant = spf_constant\n",
    "        self.spf_linear = spf_linear\n",
    "        self.spf_quadratic = spf_quadratic\n",
    "        \n",
    "    def demand(self):\n",
    "        \"\"\"Compute demand\"\"\"\n",
    "        demand = (self.spf_quadratic * (self.selling_price ** 2)) + (self.spf_linear * self.selling_price) + self.spf_constant\n",
    "        return demand\n",
    "    \n",
    "    def profit(self):\n",
    "        \"\"\"Compute profit\"\"\"\n",
    "        profit = (self.demand() * self.selling_price) - (self.demand() * self.var_cost) - self.fixed_cost\n",
    "        return profit\n"
   ]
  },
  {
   "cell_type": "code",
   "execution_count": 150,
   "id": "38dbd1b4-e602-4e87-b7f2-d2204827a0d2",
   "metadata": {
    "tags": []
   },
   "outputs": [],
   "source": [
    "# Create a dictionary of base input values\n",
    "\n",
    "base_inputs = {'selling_price': 115}"
   ]
  },
  {
   "cell_type": "code",
   "execution_count": 155,
   "id": "d621ef3e-8ac3-471e-959e-118355d3864e",
   "metadata": {
    "tags": []
   },
   "outputs": [
    {
     "name": "stdout",
     "output_type": "stream",
     "text": [
      "{'fixed_cost': 5000, 'var_cost': 100, 'selling_price': 0, 'spf_constant': 4900, 'spf_linear': -35, 'spf_quadratic': 0.06}\n"
     ]
    },
    {
     "data": {
      "text/plain": [
       "4900.0"
      ]
     },
     "execution_count": 155,
     "metadata": {},
     "output_type": "execute_result"
    }
   ],
   "source": [
    "# Create a new model with default input values (0's)\n",
    "model_test = SingleProductSPF()\n",
    "print(model_test)\n",
    "model_test.demand()"
   ]
  },
  {
   "cell_type": "code",
   "execution_count": 157,
   "id": "9ef0a6a4-6080-4b87-bd4b-5ede877f4800",
   "metadata": {
    "tags": []
   },
   "outputs": [
    {
     "name": "stdout",
     "output_type": "stream",
     "text": [
      "{'fixed_cost': 5000, 'var_cost': 100, 'selling_price': 115, 'spf_constant': 4900, 'spf_linear': -35, 'spf_quadratic': 0.06}\n"
     ]
    }
   ],
   "source": [
    "# Update model with base inputs\n",
    "model_test.update(base_inputs)\n",
    "print(model_test)"
   ]
  },
  {
   "cell_type": "code",
   "execution_count": 161,
   "id": "a5441fbc-58a3-4ceb-8438-ac7dba1f4a04",
   "metadata": {
    "tags": []
   },
   "outputs": [
    {
     "data": {
      "text/plain": [
       "1668.5"
      ]
     },
     "execution_count": 161,
     "metadata": {},
     "output_type": "execute_result"
    }
   ],
   "source": [
    "model_test.demand()"
   ]
  },
  {
   "cell_type": "code",
   "execution_count": 159,
   "id": "db81bf6e-f750-4c01-9aec-4786d215bfad",
   "metadata": {
    "tags": []
   },
   "outputs": [
    {
     "data": {
      "text/plain": [
       "20027.5"
      ]
     },
     "execution_count": 159,
     "metadata": {},
     "output_type": "execute_result"
    }
   ],
   "source": [
    "model_test.profit()"
   ]
  },
  {
   "cell_type": "code",
   "execution_count": 164,
   "id": "02d6a533-3e31-44fb-97e0-127e44537060",
   "metadata": {
    "tags": []
   },
   "outputs": [],
   "source": [
    "def data_table(model, scenario_inputs, outputs):\n",
    "    '''Create n-inputs by m-outputs data table.\n",
    "\n",
    "    Parameters\n",
    "    ----------\n",
    "    model : object\n",
    "        User defined object containing the appropriate methods and properties for computing outputs from inputs\n",
    "    scenario_inputs : dict of str to sequence\n",
    "        Keys are input variable names and values are sequence of values for each scenario for this variable. Is consumed by\n",
    "        scikit-learn ParameterGrid() function. See https://scikit-learn.org/stable/modules/generated/sklearn.model_selection.ParameterGrid.html\n",
    "    outputs : list of str\n",
    "        List of output variable names\n",
    "\n",
    "    Returns\n",
    "    -------\n",
    "    results_df : pandas DataFrame\n",
    "        Contains values of all outputs for every combination of scenario inputs\n",
    "    '''\n",
    "    \n",
    "    # Clone the model using deepcopy\n",
    "    model_clone = copy.deepcopy(model)\n",
    "    \n",
    "    # Create parameter grid\n",
    "    dt_param_grid = list(ParameterGrid(scenario_inputs))\n",
    "    \n",
    "    # Create the table as a list of dictionaries\n",
    "    results = []\n",
    "\n",
    "    # Loop over the scenarios\n",
    "    for params in dt_param_grid:\n",
    "        # Update the model clone with scenario specific values\n",
    "        model_clone.update(params)\n",
    "        # Create a result dictionary based on a copy of the scenario inputs\n",
    "        result = copy.copy(params)\n",
    "        # Loop over the list of requested outputs\n",
    "        for output in outputs:\n",
    "            # Compute the output.\n",
    "            out_val = getattr(model_clone, output)()\n",
    "            # Add the output to the result dictionary\n",
    "            result[output] = out_val\n",
    "        \n",
    "        # Append the result dictionary to the results list\n",
    "        results.append(result)\n",
    "\n",
    "    # Convert the results list (of dictionaries) to a pandas DataFrame and return it\n",
    "    results_df = pd.DataFrame(results)\n",
    "    return results_df"
   ]
  },
  {
   "cell_type": "code",
   "execution_count": 170,
   "id": "0071439e-89bb-4719-afe5-4dd477f8cea4",
   "metadata": {
    "tags": []
   },
   "outputs": [
    {
     "data": {
      "text/html": [
       "<div>\n",
       "<style scoped>\n",
       "    .dataframe tbody tr th:only-of-type {\n",
       "        vertical-align: middle;\n",
       "    }\n",
       "\n",
       "    .dataframe tbody tr th {\n",
       "        vertical-align: top;\n",
       "    }\n",
       "\n",
       "    .dataframe thead th {\n",
       "        text-align: right;\n",
       "    }\n",
       "</style>\n",
       "<table border=\"1\" class=\"dataframe\">\n",
       "  <thead>\n",
       "    <tr style=\"text-align: right;\">\n",
       "      <th></th>\n",
       "      <th>selling_price</th>\n",
       "      <th>profit</th>\n",
       "      <th>demand</th>\n",
       "    </tr>\n",
       "  </thead>\n",
       "  <tbody>\n",
       "    <tr>\n",
       "      <th>0</th>\n",
       "      <td>80</td>\n",
       "      <td>-54680.0</td>\n",
       "      <td>2484.0</td>\n",
       "    </tr>\n",
       "    <tr>\n",
       "      <th>1</th>\n",
       "      <td>90</td>\n",
       "      <td>-27360.0</td>\n",
       "      <td>2236.0</td>\n",
       "    </tr>\n",
       "    <tr>\n",
       "      <th>2</th>\n",
       "      <td>100</td>\n",
       "      <td>-5000.0</td>\n",
       "      <td>2000.0</td>\n",
       "    </tr>\n",
       "    <tr>\n",
       "      <th>3</th>\n",
       "      <td>110</td>\n",
       "      <td>12760.0</td>\n",
       "      <td>1776.0</td>\n",
       "    </tr>\n",
       "    <tr>\n",
       "      <th>4</th>\n",
       "      <td>120</td>\n",
       "      <td>26280.0</td>\n",
       "      <td>1564.0</td>\n",
       "    </tr>\n",
       "    <tr>\n",
       "      <th>5</th>\n",
       "      <td>130</td>\n",
       "      <td>35920.0</td>\n",
       "      <td>1364.0</td>\n",
       "    </tr>\n",
       "    <tr>\n",
       "      <th>6</th>\n",
       "      <td>140</td>\n",
       "      <td>42040.0</td>\n",
       "      <td>1176.0</td>\n",
       "    </tr>\n",
       "  </tbody>\n",
       "</table>\n",
       "</div>"
      ],
      "text/plain": [
       "   selling_price   profit  demand\n",
       "0             80 -54680.0  2484.0\n",
       "1             90 -27360.0  2236.0\n",
       "2            100  -5000.0  2000.0\n",
       "3            110  12760.0  1776.0\n",
       "4            120  26280.0  1564.0\n",
       "5            130  35920.0  1364.0\n",
       "6            140  42040.0  1176.0"
      ]
     },
     "execution_count": 170,
     "metadata": {},
     "output_type": "execute_result"
    }
   ],
   "source": [
    "# Specify input ranges for scenarios (dictionary)\n",
    "dt_param_ranges = {'selling_price': np.arange(80, 141, 10)}\n",
    "\n",
    "# Specify desired outputs (list)\n",
    "outputs = ['profit', 'demand']\n",
    "\n",
    "# Use data_table function\n",
    "mt_dt1_df = data_table(model_test, dt_param_ranges, outputs)\n",
    "mt_dt1_df"
   ]
  },
  {
   "cell_type": "code",
   "execution_count": 178,
   "id": "104b47ab-7ce9-4e2d-b09b-9b26b72808c5",
   "metadata": {
    "tags": []
   },
   "outputs": [
    {
     "data": {
      "image/png": "[encoded data removed]",
      "text/plain": [
       "<Figure size 640x480 with 1 Axes>"
      ]
     },
     "metadata": {},
     "output_type": "display_data"
    }
   ],
   "source": [
    "# Plot\n",
    "plt.plot(mt_dt1_df['selling_price'], mt_dt1_df['profit'], marker='o')\n",
    "\n",
    "# Labeling the plot\n",
    "plt.title('Selling Price vs. Profit')\n",
    "plt.xlabel('Selling Price ($)')\n",
    "plt.ylabel('Profit ($)')\n",
    "\n",
    "# Show plot\n",
    "plt.grid(True)\n",
    "plt.show()"
   ]
  },
  {
   "cell_type": "markdown",
   "id": "644ea748-3d68-45eb-8272-6b5978d6ce26",
   "metadata": {},
   "source": [
    "It is non-linear with a curve, as the demand formula is quadratic"
   ]
  },
  {
   "cell_type": "code",
   "execution_count": null,
   "id": "8e1a73c3-3d0c-4d3a-b169-37431a468172",
   "metadata": {},
   "outputs": [],
   "source": []
  }
 ],
 "metadata": {
  "kernelspec": {
   "display_name": "Python [conda env:aap]",
   "language": "python",
   "name": "conda-env-aap-py"
  },
  "language_info": {
   "codemirror_mode": {
    "name": "ipython",
    "version": 3
   },
   "file_extension": ".py",
   "mimetype": "text/x-python",
   "name": "python",
   "nbconvert_exporter": "python",
   "pygments_lexer": "ipython3",
   "version": "3.12.3"
  }
 },
 "nbformat": 4,
 "nbformat_minor": 5
}
