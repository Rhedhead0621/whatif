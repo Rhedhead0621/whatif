{
 "cells": [
  {
   "cell_type": "code",
   "execution_count": 1,
   "id": "6822b626-1641-4df4-990f-5a415e6664b2",
   "metadata": {},
   "outputs": [],
   "source": [
    "import numpy as np\n",
    "import pandas as pd\n",
    "import matplotlib.pyplot as plt\n",
    "from sklearn.model_selection._search import ParameterGrid\n",
    "import seaborn as sns\n",
    "import copy"
   ]
  },
  {
   "cell_type": "code",
   "execution_count": 2,
   "id": "e4ef05b9-669b-4dbc-88cc-56be89df5106",
   "metadata": {
    "tags": []
   },
   "outputs": [],
   "source": [
    "%matplotlib inline"
   ]
  },
  {
   "cell_type": "code",
   "execution_count": 5,
   "id": "e781a702-a67f-41ae-b313-97ee1e182de5",
   "metadata": {
    "tags": []
   },
   "outputs": [],
   "source": [
    "from whatif import Model\n",
    "from whatif import get_sim_results_df"
   ]
  },
  {
   "cell_type": "code",
   "execution_count": null,
   "id": "449a0aff-0a1a-4d00-a124-a9885150cb7f",
   "metadata": {},
   "outputs": [],
   "source": [
    "class SingleProductSPF(Model):\n",
    "    def __init__(self, fixed_cost=5000, var_cost=100, selling_price=115,\n",
    "                 spf_constant=4900, spf_linear=-35, spf_quadratic=0.06):\n",
    "        self.fixed_cost = fixed_cost\n",
    "        self.var_cost = var_cost\n",
    "        self.selling_price = selling_price\n",
    "        self.spf_constant = spf_constant\n",
    "        self.spf_linear = spf_linear\n",
    "        self.spf_quadratic = spf_quadratic\n",
    "\n",
    "        \n",
    "    def demand(self):\n",
    "        \"\"\"Compute demand\"\"\"\n",
    "        return (self.spf_quadratic() * self.selling_price() ** 2) – self.spf_linear() * self.selling_price() + self.spf_constant()\n",
    "    \n",
    "\n",
    "    def profit(self):\n",
    "        '''\n",
    "        Compute profit in bookstore model\n",
    "        '''\n",
    "        return (self.demand() * self.selling_price()) – (self.demand() * self.var_cost()) - self.fixed_cost()"
   ]
  },
  {
   "cell_type": "code",
   "execution_count": 58,
   "id": "77832b45-e4de-4723-a328-7f555afb5ffe",
   "metadata": {},
   "outputs": [],
   "source": [
    "class SingleProductSPF(Model):\n",
    "    def __init__(self, fixed_cost=5000, var_cost=100, selling_price=115,\n",
    "                 spf_constant=4900, spf_linear=-35, spf_quadratic=0.06):\n",
    "        self.fixed_cost = fixed_cost\n",
    "        self.var_cost = var_cost\n",
    "        self.selling_price = selling_price\n",
    "        self.spf_constant = spf_constant\n",
    "        self.spf_linear = spf_linear\n",
    "        self.spf_quadratic = spf_quadratic\n",
    "        \n",
    "    def demand(self):\n",
    "        \"\"\"Compute demand\"\"\"\n",
    "        demand = (self.spf_quadratic() * (self.selling_price() ** 2)) + (self.spf_linear() * self.selling_price()) + self.spf_constant()\n",
    "        return demand\n",
    "    \n",
    "    def profit(self):\n",
    "        \"\"\"Compute profit\"\"\"\n",
    "        profit = self.demand() * self.selling_price() - self.demand() * self.var_cost() - self.fixed_cost()\n",
    "        return profit\n"
   ]
  },
  {
   "cell_type": "code",
   "execution_count": 92,
   "id": "46a092b6-3593-4215-828f-bb7e96927320",
   "metadata": {
    "tags": []
   },
   "outputs": [],
   "source": [
    "class SingleProductSPF(Model):\n",
    "    def __init__(self, fixed_cost=5000, var_cost=100, selling_price=115,\n",
    "                 spf_constant=4900, spf_linear=-35, spf_quadratic=0.06):\n",
    "        self.fixed_cost = fixed_cost\n",
    "        self.var_cost = var_cost\n",
    "        self.selling_price = selling_price\n",
    "        self.spf_constant = spf_constant\n",
    "        self.spf_linear = spf_linear\n",
    "        self.spf_quadratic = spf_quadratic\n",
    "        \n",
    "    def demand(self):\n",
    "        \"\"\"Compute demand\"\"\"\n",
    "        demand = (self.spf_quadratic * (self.selling_price ** 2)) + (self.spf_linear * self.selling_price) + self.spf_constant\n",
    "        return demand\n",
    "    \n",
    "    def profit(self):\n",
    "        \"\"\"Compute profit\"\"\"\n",
    "        profit = (self.demand() * self.selling_price) - (self.demand() * self.var_cost) - self.fixed_cost\n",
    "        return profit\n"
   ]
  },
  {
   "cell_type": "code",
   "execution_count": 96,
   "id": "331d6f1b-35c1-447b-bbe1-3f844e9915ff",
   "metadata": {
    "tags": []
   },
   "outputs": [
    {
     "name": "stdout",
     "output_type": "stream",
     "text": [
      "{'fixed_cost': 5000, 'var_cost': 100, 'selling_price': 115, 'spf_constant': 4900, 'spf_linear': -35, 'spf_quadratic': 0.06}\n"
     ]
    },
    {
     "data": {
      "text/plain": [
       "1668.5"
      ]
     },
     "execution_count": 96,
     "metadata": {},
     "output_type": "execute_result"
    }
   ],
   "source": [
    "model_1 = SingleProductSPF()\n",
    "print(model_1)\n",
    "model_1.demand()"
   ]
  },
  {
   "cell_type": "code",
   "execution_count": 98,
   "id": "db81bf6e-f750-4c01-9aec-4786d215bfad",
   "metadata": {
    "tags": []
   },
   "outputs": [
    {
     "data": {
      "text/plain": [
       "20027.5"
      ]
     },
     "execution_count": 98,
     "metadata": {},
     "output_type": "execute_result"
    }
   ],
   "source": [
    "model_1.profit()"
   ]
  },
  {
   "cell_type": "code",
   "execution_count": null,
   "id": "02d6a533-3e31-44fb-97e0-127e44537060",
   "metadata": {},
   "outputs": [],
   "source": []
  }
 ],
 "metadata": {
  "kernelspec": {
   "display_name": "Python [conda env:aap]",
   "language": "python",
   "name": "conda-env-aap-py"
  },
  "language_info": {
   "codemirror_mode": {
    "name": "ipython",
    "version": 3
   },
   "file_extension": ".py",
   "mimetype": "text/x-python",
   "name": "python",
   "nbconvert_exporter": "python",
   "pygments_lexer": "ipython3",
   "version": "3.12.3"
  }
 },
 "nbformat": 4,
 "nbformat_minor": 5
}
